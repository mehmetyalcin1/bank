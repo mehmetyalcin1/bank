{
 "cells": [
  {
   "cell_type": "markdown",
   "metadata": {},
   "source": [
    "### Mehmet YALÇIN"
   ]
  },
  {
   "cell_type": "code",
   "execution_count": 46,
   "metadata": {},
   "outputs": [],
   "source": [
    "import pandas as pd\n",
    "import numpy as np\n",
    "import seaborn as sns\n",
    "import warnings\n",
    "warnings.filterwarnings('ignore')\n",
    "import matplotlib.pyplot as plt\n",
    "from sklearn import tree\n",
    "from sklearn import ensemble\n",
    "from sklearn import neighbors\n",
    "from sklearn import metrics\n",
    "from sklearn.model_selection import GridSearchCV\n",
    "from sklearn.model_selection import train_test_split\n",
    "from sklearn.model_selection import cross_val_score\n",
    "from sklearn.model_selection import cross_validate\n",
    "from sklearn import preprocessing\n",
    "from sklearn.ensemble import RandomForestClassifier\n",
    "from sklearn.metrics import accuracy_score as acc\n",
    "from sklearn.metrics import precision_recall_fscore_support as score\n",
    "from sklearn.tree import DecisionTreeClassifier\n",
    "from sklearn.metrics import confusion_matrix, accuracy_score, classification_report\n",
    "from sklearn.metrics import roc_auc_score,roc_curve"
   ]
  },
  {
   "cell_type": "code",
   "execution_count": 2,
   "metadata": {},
   "outputs": [],
   "source": [
    "# loading dataset\n",
    "df = pd.read_excel(r\"C:\\Users\\myalc\\OneDrive\\Masaüstü\\İTO\\machine learning\\ODEV 2\\banka.xlsx\")"
   ]
  },
  {
   "cell_type": "markdown",
   "metadata": {},
   "source": [
    "DATA HAKKINDA...\n",
    "\n",
    "* maas\t    :Maaş Müşterisi mi?\n",
    "* vadeli\t:Vadeli Mevduatı var mı?\n",
    "* yatirim\t:Yatırım ürünlerini kullanıyor mu?\n",
    "* kart\t    :Kredi Kartı var mı?\n",
    "* kredi\t    :İhtiyaç Kredisi var mı?\n",
    "* bes\t    :Bireysel Emeklilik Sigortası var mı?\n",
    "* sigorta\t:Sağlık, Hayat vb. sigortası var mı?\n",
    "* sube\t    :Son 1 ayda şubeye gitti mi?\n",
    "* atm\t    :Son 1 ayda ATM'yi kullandı mi?\n",
    "* intmob\t:Son 1 ayda İnternet Bankacılığını ya da Mobil Bankacılığı kullandı mı?\n",
    "* cagmerk\t:Son 1 ayda Çağrı Merkezini aradı mı?\n",
    "* yil\t    :Kaç yıldır bankanın müşterisi?\n",
    "* yas\t    :Müşterinin yaşı\n",
    "* cins  \t:Müşterinin cinsiyeti\n",
    "* egitim\t:Müşterinin eğitim seviyesi\n",
    "* effort_kat :Bankadaki işlemlerinizi ne derece kolay yapıyorsunuz?  (Bağımlı Değişken)\n",
    "\n"
   ]
  },
  {
   "cell_type": "markdown",
   "metadata": {},
   "source": [
    "## PROBLEM"
   ]
  },
  {
   "cell_type": "markdown",
   "metadata": {},
   "source": [
    "#### Verideki değişkenleri kullanarak sınıflandırma algoritmaları ile müşterilen bankadaki işlemlerini ne derece kolay yaptığını tahminleyen bir model geliştirmek istiyoruz.\n"
   ]
  },
  {
   "cell_type": "markdown",
   "metadata": {},
   "source": [
    "## Veri Ön İşleme "
   ]
  },
  {
   "cell_type": "code",
   "execution_count": 3,
   "metadata": {},
   "outputs": [
    {
     "data": {
      "text/html": [
       "<div>\n",
       "<style scoped>\n",
       "    .dataframe tbody tr th:only-of-type {\n",
       "        vertical-align: middle;\n",
       "    }\n",
       "\n",
       "    .dataframe tbody tr th {\n",
       "        vertical-align: top;\n",
       "    }\n",
       "\n",
       "    .dataframe thead th {\n",
       "        text-align: right;\n",
       "    }\n",
       "</style>\n",
       "<table border=\"1\" class=\"dataframe\">\n",
       "  <thead>\n",
       "    <tr style=\"text-align: right;\">\n",
       "      <th></th>\n",
       "      <th>maas</th>\n",
       "      <th>vadeli</th>\n",
       "      <th>yatirim</th>\n",
       "      <th>kart</th>\n",
       "      <th>kredi</th>\n",
       "      <th>bes</th>\n",
       "      <th>sigorta</th>\n",
       "      <th>sube</th>\n",
       "      <th>atm</th>\n",
       "      <th>intmob</th>\n",
       "      <th>cagmerk</th>\n",
       "      <th>yil</th>\n",
       "      <th>yas</th>\n",
       "      <th>cins</th>\n",
       "      <th>egitim</th>\n",
       "      <th>sikayet_kat</th>\n",
       "      <th>nps_kat</th>\n",
       "      <th>effort_kat</th>\n",
       "    </tr>\n",
       "  </thead>\n",
       "  <tbody>\n",
       "    <tr>\n",
       "      <th>0</th>\n",
       "      <td>Hayır</td>\n",
       "      <td>Hayır</td>\n",
       "      <td>Evet</td>\n",
       "      <td>Evet</td>\n",
       "      <td>Hayır</td>\n",
       "      <td>Hayır</td>\n",
       "      <td>Evet</td>\n",
       "      <td>Hayır</td>\n",
       "      <td>Evet</td>\n",
       "      <td>Evet</td>\n",
       "      <td>Hayır</td>\n",
       "      <td>&lt; 1 yıl</td>\n",
       "      <td>18-24</td>\n",
       "      <td>Kadın</td>\n",
       "      <td>Üniversite ve üzeri</td>\n",
       "      <td>Var</td>\n",
       "      <td>Tavsiye Etmem</td>\n",
       "      <td>Zor</td>\n",
       "    </tr>\n",
       "    <tr>\n",
       "      <th>1</th>\n",
       "      <td>Hayır</td>\n",
       "      <td>Evet</td>\n",
       "      <td>Evet</td>\n",
       "      <td>Hayır</td>\n",
       "      <td>Hayır</td>\n",
       "      <td>Evet</td>\n",
       "      <td>Hayır</td>\n",
       "      <td>Hayır</td>\n",
       "      <td>Hayır</td>\n",
       "      <td>Evet</td>\n",
       "      <td>Hayır</td>\n",
       "      <td>&lt; 1 yıl</td>\n",
       "      <td>18-24</td>\n",
       "      <td>Kadın</td>\n",
       "      <td>Üniversite ve üzeri</td>\n",
       "      <td>Yok</td>\n",
       "      <td>Tavsiye Ederim</td>\n",
       "      <td>Kolay</td>\n",
       "    </tr>\n",
       "    <tr>\n",
       "      <th>2</th>\n",
       "      <td>Hayır</td>\n",
       "      <td>Evet</td>\n",
       "      <td>Evet</td>\n",
       "      <td>Hayır</td>\n",
       "      <td>Hayır</td>\n",
       "      <td>Hayır</td>\n",
       "      <td>Hayır</td>\n",
       "      <td>Hayır</td>\n",
       "      <td>Evet</td>\n",
       "      <td>Evet</td>\n",
       "      <td>Hayır</td>\n",
       "      <td>&lt; 1 yıl</td>\n",
       "      <td>18-24</td>\n",
       "      <td>Kadın</td>\n",
       "      <td>Üniversite ve üzeri</td>\n",
       "      <td>Yok</td>\n",
       "      <td>Tavsiye Ederim</td>\n",
       "      <td>Kolay</td>\n",
       "    </tr>\n",
       "    <tr>\n",
       "      <th>3</th>\n",
       "      <td>Hayır</td>\n",
       "      <td>Hayır</td>\n",
       "      <td>Hayır</td>\n",
       "      <td>Evet</td>\n",
       "      <td>Hayır</td>\n",
       "      <td>Hayır</td>\n",
       "      <td>Hayır</td>\n",
       "      <td>Hayır</td>\n",
       "      <td>Evet</td>\n",
       "      <td>Evet</td>\n",
       "      <td>Hayır</td>\n",
       "      <td>&lt; 1 yıl</td>\n",
       "      <td>18-24</td>\n",
       "      <td>Erkek</td>\n",
       "      <td>Lise</td>\n",
       "      <td>Yok</td>\n",
       "      <td>Tavsiye Ederim</td>\n",
       "      <td>Kolay</td>\n",
       "    </tr>\n",
       "    <tr>\n",
       "      <th>4</th>\n",
       "      <td>Hayır</td>\n",
       "      <td>Hayır</td>\n",
       "      <td>Hayır</td>\n",
       "      <td>Hayır</td>\n",
       "      <td>Hayır</td>\n",
       "      <td>Evet</td>\n",
       "      <td>Evet</td>\n",
       "      <td>Hayır</td>\n",
       "      <td>Hayır</td>\n",
       "      <td>Evet</td>\n",
       "      <td>Evet</td>\n",
       "      <td>&lt; 1 yıl</td>\n",
       "      <td>18-24</td>\n",
       "      <td>Erkek</td>\n",
       "      <td>Üniversite ve üzeri</td>\n",
       "      <td>Var</td>\n",
       "      <td>Tavsiye Etmem</td>\n",
       "      <td>Zor</td>\n",
       "    </tr>\n",
       "  </tbody>\n",
       "</table>\n",
       "</div>"
      ],
      "text/plain": [
       "    maas vadeli yatirim   kart  kredi    bes sigorta   sube    atm intmob  \\\n",
       "0  Hayır  Hayır    Evet   Evet  Hayır  Hayır    Evet  Hayır   Evet   Evet   \n",
       "1  Hayır   Evet    Evet  Hayır  Hayır   Evet   Hayır  Hayır  Hayır   Evet   \n",
       "2  Hayır   Evet    Evet  Hayır  Hayır  Hayır   Hayır  Hayır   Evet   Evet   \n",
       "3  Hayır  Hayır   Hayır   Evet  Hayır  Hayır   Hayır  Hayır   Evet   Evet   \n",
       "4  Hayır  Hayır   Hayır  Hayır  Hayır   Evet    Evet  Hayır  Hayır   Evet   \n",
       "\n",
       "  cagmerk      yil    yas   cins               egitim sikayet_kat  \\\n",
       "0   Hayır  < 1 yıl  18-24  Kadın  Üniversite ve üzeri         Var   \n",
       "1   Hayır  < 1 yıl  18-24  Kadın  Üniversite ve üzeri         Yok   \n",
       "2   Hayır  < 1 yıl  18-24  Kadın  Üniversite ve üzeri         Yok   \n",
       "3   Hayır  < 1 yıl  18-24  Erkek                 Lise         Yok   \n",
       "4    Evet  < 1 yıl  18-24  Erkek  Üniversite ve üzeri         Var   \n",
       "\n",
       "          nps_kat effort_kat  \n",
       "0   Tavsiye Etmem        Zor  \n",
       "1  Tavsiye Ederim      Kolay  \n",
       "2  Tavsiye Ederim      Kolay  \n",
       "3  Tavsiye Ederim      Kolay  \n",
       "4   Tavsiye Etmem        Zor  "
      ]
     },
     "execution_count": 3,
     "metadata": {},
     "output_type": "execute_result"
    }
   ],
   "source": [
    "df.head() #ilk 5 satırı görelim"
   ]
  },
  {
   "cell_type": "code",
   "execution_count": 4,
   "metadata": {},
   "outputs": [
    {
     "name": "stdout",
     "output_type": "stream",
     "text": [
      "<class 'pandas.core.frame.DataFrame'>\n",
      "RangeIndex: 1319 entries, 0 to 1318\n",
      "Data columns (total 18 columns):\n",
      " #   Column       Non-Null Count  Dtype \n",
      "---  ------       --------------  ----- \n",
      " 0   maas         1319 non-null   object\n",
      " 1   vadeli       1319 non-null   object\n",
      " 2   yatirim      1319 non-null   object\n",
      " 3   kart         1319 non-null   object\n",
      " 4   kredi        1319 non-null   object\n",
      " 5   bes          1319 non-null   object\n",
      " 6   sigorta      1319 non-null   object\n",
      " 7   sube         1319 non-null   object\n",
      " 8   atm          1319 non-null   object\n",
      " 9   intmob       1319 non-null   object\n",
      " 10  cagmerk      1319 non-null   object\n",
      " 11  yil          1319 non-null   object\n",
      " 12  yas          1319 non-null   object\n",
      " 13  cins         1319 non-null   object\n",
      " 14  egitim       1319 non-null   object\n",
      " 15  sikayet_kat  1319 non-null   object\n",
      " 16  nps_kat      1319 non-null   object\n",
      " 17  effort_kat   1319 non-null   object\n",
      "dtypes: object(18)\n",
      "memory usage: 185.6+ KB\n"
     ]
    }
   ],
   "source": [
    "#veri üzerine genel bir bakış\n",
    "df.info()"
   ]
  },
  {
   "cell_type": "code",
   "execution_count": 5,
   "metadata": {},
   "outputs": [
    {
     "data": {
      "text/plain": [
       "Index(['maas', 'vadeli', 'yatirim', 'kart', 'kredi', 'bes', 'sigorta', 'sube',\n",
       "       'atm', 'intmob', 'cagmerk', 'yil', 'yas', 'cins', 'egitim',\n",
       "       'sikayet_kat', 'nps_kat', 'effort_kat'],\n",
       "      dtype='object')"
      ]
     },
     "execution_count": 5,
     "metadata": {},
     "output_type": "execute_result"
    }
   ],
   "source": [
    "#kolon isimlerini görelim\n",
    "df.columns"
   ]
  },
  {
   "cell_type": "code",
   "execution_count": 6,
   "metadata": {},
   "outputs": [
    {
     "data": {
      "text/html": [
       "<div>\n",
       "<style scoped>\n",
       "    .dataframe tbody tr th:only-of-type {\n",
       "        vertical-align: middle;\n",
       "    }\n",
       "\n",
       "    .dataframe tbody tr th {\n",
       "        vertical-align: top;\n",
       "    }\n",
       "\n",
       "    .dataframe thead th {\n",
       "        text-align: right;\n",
       "    }\n",
       "</style>\n",
       "<table border=\"1\" class=\"dataframe\">\n",
       "  <thead>\n",
       "    <tr style=\"text-align: right;\">\n",
       "      <th></th>\n",
       "      <th>count</th>\n",
       "      <th>unique</th>\n",
       "      <th>top</th>\n",
       "      <th>freq</th>\n",
       "    </tr>\n",
       "  </thead>\n",
       "  <tbody>\n",
       "    <tr>\n",
       "      <th>maas</th>\n",
       "      <td>1319</td>\n",
       "      <td>2</td>\n",
       "      <td>Hayır</td>\n",
       "      <td>952</td>\n",
       "    </tr>\n",
       "    <tr>\n",
       "      <th>vadeli</th>\n",
       "      <td>1319</td>\n",
       "      <td>2</td>\n",
       "      <td>Hayır</td>\n",
       "      <td>891</td>\n",
       "    </tr>\n",
       "    <tr>\n",
       "      <th>yatirim</th>\n",
       "      <td>1319</td>\n",
       "      <td>2</td>\n",
       "      <td>Hayır</td>\n",
       "      <td>890</td>\n",
       "    </tr>\n",
       "    <tr>\n",
       "      <th>kart</th>\n",
       "      <td>1319</td>\n",
       "      <td>2</td>\n",
       "      <td>Hayır</td>\n",
       "      <td>800</td>\n",
       "    </tr>\n",
       "    <tr>\n",
       "      <th>kredi</th>\n",
       "      <td>1319</td>\n",
       "      <td>2</td>\n",
       "      <td>Hayır</td>\n",
       "      <td>830</td>\n",
       "    </tr>\n",
       "    <tr>\n",
       "      <th>bes</th>\n",
       "      <td>1319</td>\n",
       "      <td>2</td>\n",
       "      <td>Hayır</td>\n",
       "      <td>1122</td>\n",
       "    </tr>\n",
       "    <tr>\n",
       "      <th>sigorta</th>\n",
       "      <td>1319</td>\n",
       "      <td>2</td>\n",
       "      <td>Hayır</td>\n",
       "      <td>1083</td>\n",
       "    </tr>\n",
       "    <tr>\n",
       "      <th>sube</th>\n",
       "      <td>1319</td>\n",
       "      <td>2</td>\n",
       "      <td>Evet</td>\n",
       "      <td>792</td>\n",
       "    </tr>\n",
       "    <tr>\n",
       "      <th>atm</th>\n",
       "      <td>1319</td>\n",
       "      <td>2</td>\n",
       "      <td>Hayır</td>\n",
       "      <td>940</td>\n",
       "    </tr>\n",
       "    <tr>\n",
       "      <th>intmob</th>\n",
       "      <td>1319</td>\n",
       "      <td>2</td>\n",
       "      <td>Evet</td>\n",
       "      <td>992</td>\n",
       "    </tr>\n",
       "    <tr>\n",
       "      <th>cagmerk</th>\n",
       "      <td>1319</td>\n",
       "      <td>2</td>\n",
       "      <td>Hayır</td>\n",
       "      <td>918</td>\n",
       "    </tr>\n",
       "    <tr>\n",
       "      <th>yil</th>\n",
       "      <td>1319</td>\n",
       "      <td>5</td>\n",
       "      <td>4-6 yıl</td>\n",
       "      <td>512</td>\n",
       "    </tr>\n",
       "    <tr>\n",
       "      <th>yas</th>\n",
       "      <td>1319</td>\n",
       "      <td>6</td>\n",
       "      <td>35-44</td>\n",
       "      <td>502</td>\n",
       "    </tr>\n",
       "    <tr>\n",
       "      <th>cins</th>\n",
       "      <td>1319</td>\n",
       "      <td>2</td>\n",
       "      <td>Erkek</td>\n",
       "      <td>999</td>\n",
       "    </tr>\n",
       "    <tr>\n",
       "      <th>egitim</th>\n",
       "      <td>1319</td>\n",
       "      <td>3</td>\n",
       "      <td>Üniversite ve üzeri</td>\n",
       "      <td>674</td>\n",
       "    </tr>\n",
       "    <tr>\n",
       "      <th>sikayet_kat</th>\n",
       "      <td>1319</td>\n",
       "      <td>2</td>\n",
       "      <td>Yok</td>\n",
       "      <td>780</td>\n",
       "    </tr>\n",
       "    <tr>\n",
       "      <th>nps_kat</th>\n",
       "      <td>1319</td>\n",
       "      <td>2</td>\n",
       "      <td>Tavsiye Ederim</td>\n",
       "      <td>812</td>\n",
       "    </tr>\n",
       "    <tr>\n",
       "      <th>effort_kat</th>\n",
       "      <td>1319</td>\n",
       "      <td>2</td>\n",
       "      <td>Kolay</td>\n",
       "      <td>821</td>\n",
       "    </tr>\n",
       "  </tbody>\n",
       "</table>\n",
       "</div>"
      ],
      "text/plain": [
       "            count unique                  top  freq\n",
       "maas         1319      2                Hayır   952\n",
       "vadeli       1319      2                Hayır   891\n",
       "yatirim      1319      2                Hayır   890\n",
       "kart         1319      2                Hayır   800\n",
       "kredi        1319      2                Hayır   830\n",
       "bes          1319      2                Hayır  1122\n",
       "sigorta      1319      2                Hayır  1083\n",
       "sube         1319      2                 Evet   792\n",
       "atm          1319      2                Hayır   940\n",
       "intmob       1319      2                 Evet   992\n",
       "cagmerk      1319      2                Hayır   918\n",
       "yil          1319      5              4-6 yıl   512\n",
       "yas          1319      6                35-44   502\n",
       "cins         1319      2                Erkek   999\n",
       "egitim       1319      3  Üniversite ve üzeri   674\n",
       "sikayet_kat  1319      2                  Yok   780\n",
       "nps_kat      1319      2       Tavsiye Ederim   812\n",
       "effort_kat   1319      2                Kolay   821"
      ]
     },
     "execution_count": 6,
     "metadata": {},
     "output_type": "execute_result"
    }
   ],
   "source": [
    "#veri üzerine daha detaylı bir bakış\n",
    "df.describe().T "
   ]
  },
  {
   "cell_type": "code",
   "execution_count": 7,
   "metadata": {},
   "outputs": [],
   "source": [
    "# diğer bağımlı değişken atılır\n",
    "df = df.drop(['nps_kat'], axis=1)"
   ]
  },
  {
   "cell_type": "code",
   "execution_count": 8,
   "metadata": {},
   "outputs": [],
   "source": [
    "# diğer bağımlı değişken atılır\n",
    "df= df.drop(['sikayet_kat'], axis=1)"
   ]
  },
  {
   "cell_type": "code",
   "execution_count": 9,
   "metadata": {},
   "outputs": [
    {
     "data": {
      "text/plain": [
       "maas          0\n",
       "vadeli        0\n",
       "yatirim       0\n",
       "kart          0\n",
       "kredi         0\n",
       "bes           0\n",
       "sigorta       0\n",
       "sube          0\n",
       "atm           0\n",
       "intmob        0\n",
       "cagmerk       0\n",
       "yil           0\n",
       "yas           0\n",
       "cins          0\n",
       "egitim        0\n",
       "effort_kat    0\n",
       "dtype: int64"
      ]
     },
     "execution_count": 9,
     "metadata": {},
     "output_type": "execute_result"
    }
   ],
   "source": [
    "#eksik veri analizi yapılır. Veride eksik gözleme rastlanmamıştır.\n",
    "\n",
    "df.isnull().sum()"
   ]
  },
  {
   "cell_type": "code",
   "execution_count": 10,
   "metadata": {},
   "outputs": [
    {
     "data": {
      "text/plain": [
       "(1319, 16)"
      ]
     },
     "execution_count": 10,
     "metadata": {},
     "output_type": "execute_result"
    }
   ],
   "source": [
    "#satır ve sütun sayısı\n",
    "df.shape"
   ]
  },
  {
   "cell_type": "code",
   "execution_count": 11,
   "metadata": {},
   "outputs": [],
   "source": [
    "#kategorik değişkenlerin özetleri"
   ]
  },
  {
   "cell_type": "code",
   "execution_count": 12,
   "metadata": {},
   "outputs": [
    {
     "data": {
      "text/plain": [
       "Kolay    821\n",
       "Zor      498\n",
       "Name: effort_kat, dtype: int64"
      ]
     },
     "execution_count": 12,
     "metadata": {},
     "output_type": "execute_result"
    }
   ],
   "source": [
    "# bağımlı değişkende kaç gözlemden kaç tane var?\n",
    "df.effort_kat.value_counts()"
   ]
  },
  {
   "cell_type": "code",
   "execution_count": 13,
   "metadata": {},
   "outputs": [
    {
     "data": {
      "text/plain": [
       "35-44         502\n",
       "45-54         407\n",
       "25-34         240\n",
       "55-64         158\n",
       "65 ve üstü      7\n",
       "18-24           5\n",
       "Name: yas, dtype: int64"
      ]
     },
     "execution_count": 13,
     "metadata": {},
     "output_type": "execute_result"
    }
   ],
   "source": [
    "# yaş değişkeninin frekansı\n",
    "df.yas.value_counts()"
   ]
  },
  {
   "cell_type": "code",
   "execution_count": 14,
   "metadata": {},
   "outputs": [
    {
     "data": {
      "text/plain": [
       "4-6 yıl         512\n",
       "7-10 yıl        313\n",
       "1-3 yıl         239\n",
       "10 yıl üzeri    179\n",
       "< 1 yıl          76\n",
       "Name: yil, dtype: int64"
      ]
     },
     "execution_count": 14,
     "metadata": {},
     "output_type": "execute_result"
    }
   ],
   "source": [
    "# yıl değişkeninin frekansı\n",
    "df.yil.value_counts()"
   ]
  },
  {
   "cell_type": "markdown",
   "metadata": {},
   "source": [
    "## Veri üzerine Görselleştirme"
   ]
  },
  {
   "cell_type": "code",
   "execution_count": 15,
   "metadata": {},
   "outputs": [
    {
     "data": {
      "text/plain": [
       "<matplotlib.axes._subplots.AxesSubplot at 0x1afe0aeb0c8>"
      ]
     },
     "execution_count": 15,
     "metadata": {},
     "output_type": "execute_result"
    },
    {
     "data": {
      "image/png": "[encoded data removed]",
      "text/plain": [
       "<Figure size 432x288 with 1 Axes>"
      ]
     },
     "metadata": {
      "needs_background": "light"
     },
     "output_type": "display_data"
    }
   ],
   "source": [
    "df.effort_kat.value_counts().plot.barh()"
   ]
  },
  {
   "cell_type": "code",
   "execution_count": 16,
   "metadata": {},
   "outputs": [
    {
     "data": {
      "text/plain": [
       "<matplotlib.axes._subplots.AxesSubplot at 0x1afe130ac48>"
      ]
     },
     "execution_count": 16,
     "metadata": {},
     "output_type": "execute_result"
    },
    {
     "data": {
      "image/png": "[encoded data removed]",
      "text/plain": [
       "<Figure size 432x288 with 1 Axes>"
      ]
     },
     "metadata": {
      "needs_background": "light"
     },
     "output_type": "display_data"
    }
   ],
   "source": [
    "df.egitim.value_counts().plot.barh()"
   ]
  },
  {
   "cell_type": "code",
   "execution_count": 17,
   "metadata": {},
   "outputs": [
    {
     "data": {
      "text/plain": [
       "<matplotlib.axes._subplots.AxesSubplot at 0x1afe0ac8248>"
      ]
     },
     "execution_count": 17,
     "metadata": {},
     "output_type": "execute_result"
    },
    {
     "data": {
      "image/png": "[encoded data removed]",
      "text/plain": [
       "<Figure size 432x288 with 1 Axes>"
      ]
     },
     "metadata": {
      "needs_background": "light"
     },
     "output_type": "display_data"
    }
   ],
   "source": [
    "df.yas.value_counts().plot.barh()"
   ]
  },
  {
   "cell_type": "code",
   "execution_count": 18,
   "metadata": {},
   "outputs": [
    {
     "data": {
      "text/plain": [
       "<matplotlib.axes._subplots.AxesSubplot at 0x1afe0ac0fc8>"
      ]
     },
     "execution_count": 18,
     "metadata": {},
     "output_type": "execute_result"
    },
    {
     "data": {
      "image/png": "[encoded data removed]",
      "text/plain": [
       "<Figure size 432x288 with 1 Axes>"
      ]
     },
     "metadata": {
      "needs_background": "light"
     },
     "output_type": "display_data"
    }
   ],
   "source": [
    "df.yil.value_counts().plot.barh()"
   ]
  },
  {
   "cell_type": "code",
   "execution_count": 19,
   "metadata": {},
   "outputs": [
    {
     "data": {
      "image/png": "[encoded data removed]",
      "text/plain": [
       "<Figure size 423.375x360 with 1 Axes>"
      ]
     },
     "metadata": {
      "needs_background": "light"
     },
     "output_type": "display_data"
    }
   ],
   "source": [
    "#Eğitim durumuna göre işlemlerini kolay-zor olarak tanımlayanlar\n",
    "\n",
    "sns.catplot(x=\"egitim\", kind=\"count\", hue=\"effort_kat\", palette=\"pastel\", data=df);"
   ]
  },
  {
   "cell_type": "code",
   "execution_count": 20,
   "metadata": {},
   "outputs": [
    {
     "data": {
      "image/png": "[encoded data removed]",
      "text/plain": [
       "<Figure size 423.375x360 with 1 Axes>"
      ]
     },
     "metadata": {
      "needs_background": "light"
     },
     "output_type": "display_data"
    }
   ],
   "source": [
    "# Yaşlara göre işlemlerini kolay-zor olarak tanımlayanlar\n",
    "sns.catplot(x=\"yas\", kind=\"count\", hue=\"effort_kat\", palette=\"Blues_d\", data=df);"
   ]
  },
  {
   "cell_type": "code",
   "execution_count": 21,
   "metadata": {},
   "outputs": [
    {
     "data": {
      "image/png": "[encoded data removed]",
      "text/plain": [
       "<Figure size 423.375x360 with 1 Axes>"
      ]
     },
     "metadata": {
      "needs_background": "light"
     },
     "output_type": "display_data"
    }
   ],
   "source": [
    "#yıllara göre işlemlerini kolay ve zor olarak tanımlayanlar\n",
    "sns.catplot(x=\"yil\", kind=\"count\", hue=\"effort_kat\", palette=\"Set1\", data=df);"
   ]
  },
  {
   "cell_type": "markdown",
   "metadata": {},
   "source": [
    "### Sınıf Sayısı 2 den fazla olan bağımsız değişkenler üzerine category işlemleri yapalım."
   ]
  },
  {
   "cell_type": "code",
   "execution_count": 22,
   "metadata": {},
   "outputs": [
    {
     "data": {
      "text/plain": [
       "Index(['Kolay', 'Zor'], dtype='object')"
      ]
     },
     "execution_count": 22,
     "metadata": {},
     "output_type": "execute_result"
    }
   ],
   "source": [
    "#bağımlı değişkenin görünümüne daha detaylı bakalım. Zor=1 kolay=0\n",
    "\n",
    "df.effort_kat= pd.Categorical(df.effort_kat)\n",
    "df[\"effort_kat\"].cat.categories"
   ]
  },
  {
   "cell_type": "code",
   "execution_count": 23,
   "metadata": {},
   "outputs": [
    {
     "data": {
      "text/plain": [
       "0       1\n",
       "1       0\n",
       "2       0\n",
       "3       0\n",
       "4       1\n",
       "       ..\n",
       "1314    1\n",
       "1315    0\n",
       "1316    0\n",
       "1317    1\n",
       "1318    1\n",
       "Length: 1319, dtype: int8"
      ]
     },
     "execution_count": 23,
     "metadata": {},
     "output_type": "execute_result"
    }
   ],
   "source": [
    "df[\"effort_kat\"].cat.codes"
   ]
  },
  {
   "cell_type": "code",
   "execution_count": 24,
   "metadata": {},
   "outputs": [
    {
     "name": "stdout",
     "output_type": "stream",
     "text": [
      "[Üniversite ve üzeri, Üniversite ve üzeri, Üniversite ve üzeri, Lise, Üniversite ve üzeri, ..., Lise, Lise altı, Lise, Üniversite ve üzeri, Lise altı]\n",
      "Length: 1319\n",
      "Categories (3, object): [Lise altı < Lise < Üniversite ve üzeri]\n"
     ]
    }
   ],
   "source": [
    "#sıralı olarak kategorize edelim\n",
    "\n",
    "categories=pd.Categorical(df['egitim'],categories=['Lise altı','Lise','Üniversite ve üzeri'],ordered=True)\n",
    "print(categories)"
   ]
  },
  {
   "cell_type": "code",
   "execution_count": 25,
   "metadata": {},
   "outputs": [
    {
     "data": {
      "text/plain": [
       "0       2\n",
       "1       2\n",
       "2       2\n",
       "3       1\n",
       "4       2\n",
       "       ..\n",
       "1314    1\n",
       "1315    0\n",
       "1316    1\n",
       "1317    2\n",
       "1318    0\n",
       "Name: egitim, Length: 1319, dtype: int64"
      ]
     },
     "execution_count": 25,
     "metadata": {},
     "output_type": "execute_result"
    }
   ],
   "source": [
    "egitim,unique=pd.factorize(categories,sort=True)\n",
    "df['egitim']=egitim\n",
    "df['egitim']"
   ]
  },
  {
   "cell_type": "code",
   "execution_count": 26,
   "metadata": {},
   "outputs": [
    {
     "data": {
      "text/plain": [
       "Index(['1-3 yıl', '10 yıl üzeri', '4-6 yıl', '7-10 yıl', '< 1 yıl'], dtype='object')"
      ]
     },
     "execution_count": 26,
     "metadata": {},
     "output_type": "execute_result"
    }
   ],
   "source": [
    "df.yil= pd.Categorical(df.yil)\n",
    "df[\"yil\"].cat.categories"
   ]
  },
  {
   "cell_type": "code",
   "execution_count": 27,
   "metadata": {},
   "outputs": [
    {
     "data": {
      "text/plain": [
       "Index(['18-24', '25-34', '35-44', '45-54', '55-64', '65 ve üstü'], dtype='object')"
      ]
     },
     "execution_count": 27,
     "metadata": {},
     "output_type": "execute_result"
    }
   ],
   "source": [
    "df.yas= pd.Categorical(df.yas)\n",
    "df[\"yas\"].cat.categories"
   ]
  },
  {
   "cell_type": "markdown",
   "metadata": {},
   "source": [
    "### Yas ve Yıl kolonu dummy değişken olarak (n-1) sınıf sayısı olacak şekilde alınır."
   ]
  },
  {
   "cell_type": "code",
   "execution_count": 28,
   "metadata": {},
   "outputs": [],
   "source": [
    "df1= pd.get_dummies(df, columns = [\"yas\"], prefix = [\"yas\"])"
   ]
  },
  {
   "cell_type": "code",
   "execution_count": 30,
   "metadata": {},
   "outputs": [
    {
     "data": {
      "text/html": [
       "<div>\n",
       "<style scoped>\n",
       "    .dataframe tbody tr th:only-of-type {\n",
       "        vertical-align: middle;\n",
       "    }\n",
       "\n",
       "    .dataframe tbody tr th {\n",
       "        vertical-align: top;\n",
       "    }\n",
       "\n",
       "    .dataframe thead th {\n",
       "        text-align: right;\n",
       "    }\n",
       "</style>\n",
       "<table border=\"1\" class=\"dataframe\">\n",
       "  <thead>\n",
       "    <tr style=\"text-align: right;\">\n",
       "      <th></th>\n",
       "      <th>maas</th>\n",
       "      <th>vadeli</th>\n",
       "      <th>yatirim</th>\n",
       "      <th>kart</th>\n",
       "      <th>kredi</th>\n",
       "      <th>bes</th>\n",
       "      <th>sigorta</th>\n",
       "      <th>sube</th>\n",
       "      <th>atm</th>\n",
       "      <th>intmob</th>\n",
       "      <th>...</th>\n",
       "      <th>yil</th>\n",
       "      <th>cins</th>\n",
       "      <th>egitim</th>\n",
       "      <th>effort_kat</th>\n",
       "      <th>yas_18-24</th>\n",
       "      <th>yas_25-34</th>\n",
       "      <th>yas_35-44</th>\n",
       "      <th>yas_45-54</th>\n",
       "      <th>yas_55-64</th>\n",
       "      <th>yas_65 ve üstü</th>\n",
       "    </tr>\n",
       "  </thead>\n",
       "  <tbody>\n",
       "    <tr>\n",
       "      <th>0</th>\n",
       "      <td>Hayır</td>\n",
       "      <td>Hayır</td>\n",
       "      <td>Evet</td>\n",
       "      <td>Evet</td>\n",
       "      <td>Hayır</td>\n",
       "      <td>Hayır</td>\n",
       "      <td>Evet</td>\n",
       "      <td>Hayır</td>\n",
       "      <td>Evet</td>\n",
       "      <td>Evet</td>\n",
       "      <td>...</td>\n",
       "      <td>&lt; 1 yıl</td>\n",
       "      <td>Kadın</td>\n",
       "      <td>2</td>\n",
       "      <td>Zor</td>\n",
       "      <td>1</td>\n",
       "      <td>0</td>\n",
       "      <td>0</td>\n",
       "      <td>0</td>\n",
       "      <td>0</td>\n",
       "      <td>0</td>\n",
       "    </tr>\n",
       "    <tr>\n",
       "      <th>1</th>\n",
       "      <td>Hayır</td>\n",
       "      <td>Evet</td>\n",
       "      <td>Evet</td>\n",
       "      <td>Hayır</td>\n",
       "      <td>Hayır</td>\n",
       "      <td>Evet</td>\n",
       "      <td>Hayır</td>\n",
       "      <td>Hayır</td>\n",
       "      <td>Hayır</td>\n",
       "      <td>Evet</td>\n",
       "      <td>...</td>\n",
       "      <td>&lt; 1 yıl</td>\n",
       "      <td>Kadın</td>\n",
       "      <td>2</td>\n",
       "      <td>Kolay</td>\n",
       "      <td>1</td>\n",
       "      <td>0</td>\n",
       "      <td>0</td>\n",
       "      <td>0</td>\n",
       "      <td>0</td>\n",
       "      <td>0</td>\n",
       "    </tr>\n",
       "    <tr>\n",
       "      <th>2</th>\n",
       "      <td>Hayır</td>\n",
       "      <td>Evet</td>\n",
       "      <td>Evet</td>\n",
       "      <td>Hayır</td>\n",
       "      <td>Hayır</td>\n",
       "      <td>Hayır</td>\n",
       "      <td>Hayır</td>\n",
       "      <td>Hayır</td>\n",
       "      <td>Evet</td>\n",
       "      <td>Evet</td>\n",
       "      <td>...</td>\n",
       "      <td>&lt; 1 yıl</td>\n",
       "      <td>Kadın</td>\n",
       "      <td>2</td>\n",
       "      <td>Kolay</td>\n",
       "      <td>1</td>\n",
       "      <td>0</td>\n",
       "      <td>0</td>\n",
       "      <td>0</td>\n",
       "      <td>0</td>\n",
       "      <td>0</td>\n",
       "    </tr>\n",
       "    <tr>\n",
       "      <th>3</th>\n",
       "      <td>Hayır</td>\n",
       "      <td>Hayır</td>\n",
       "      <td>Hayır</td>\n",
       "      <td>Evet</td>\n",
       "      <td>Hayır</td>\n",
       "      <td>Hayır</td>\n",
       "      <td>Hayır</td>\n",
       "      <td>Hayır</td>\n",
       "      <td>Evet</td>\n",
       "      <td>Evet</td>\n",
       "      <td>...</td>\n",
       "      <td>&lt; 1 yıl</td>\n",
       "      <td>Erkek</td>\n",
       "      <td>1</td>\n",
       "      <td>Kolay</td>\n",
       "      <td>1</td>\n",
       "      <td>0</td>\n",
       "      <td>0</td>\n",
       "      <td>0</td>\n",
       "      <td>0</td>\n",
       "      <td>0</td>\n",
       "    </tr>\n",
       "    <tr>\n",
       "      <th>4</th>\n",
       "      <td>Hayır</td>\n",
       "      <td>Hayır</td>\n",
       "      <td>Hayır</td>\n",
       "      <td>Hayır</td>\n",
       "      <td>Hayır</td>\n",
       "      <td>Evet</td>\n",
       "      <td>Evet</td>\n",
       "      <td>Hayır</td>\n",
       "      <td>Hayır</td>\n",
       "      <td>Evet</td>\n",
       "      <td>...</td>\n",
       "      <td>&lt; 1 yıl</td>\n",
       "      <td>Erkek</td>\n",
       "      <td>2</td>\n",
       "      <td>Zor</td>\n",
       "      <td>1</td>\n",
       "      <td>0</td>\n",
       "      <td>0</td>\n",
       "      <td>0</td>\n",
       "      <td>0</td>\n",
       "      <td>0</td>\n",
       "    </tr>\n",
       "  </tbody>\n",
       "</table>\n",
       "<p>5 rows × 21 columns</p>\n",
       "</div>"
      ],
      "text/plain": [
       "    maas vadeli yatirim   kart  kredi    bes sigorta   sube    atm intmob  \\\n",
       "0  Hayır  Hayır    Evet   Evet  Hayır  Hayır    Evet  Hayır   Evet   Evet   \n",
       "1  Hayır   Evet    Evet  Hayır  Hayır   Evet   Hayır  Hayır  Hayır   Evet   \n",
       "2  Hayır   Evet    Evet  Hayır  Hayır  Hayır   Hayır  Hayır   Evet   Evet   \n",
       "3  Hayır  Hayır   Hayır   Evet  Hayır  Hayır   Hayır  Hayır   Evet   Evet   \n",
       "4  Hayır  Hayır   Hayır  Hayır  Hayır   Evet    Evet  Hayır  Hayır   Evet   \n",
       "\n",
       "   ...      yil   cins egitim  effort_kat yas_18-24  yas_25-34  yas_35-44  \\\n",
       "0  ...  < 1 yıl  Kadın      2         Zor         1          0          0   \n",
       "1  ...  < 1 yıl  Kadın      2       Kolay         1          0          0   \n",
       "2  ...  < 1 yıl  Kadın      2       Kolay         1          0          0   \n",
       "3  ...  < 1 yıl  Erkek      1       Kolay         1          0          0   \n",
       "4  ...  < 1 yıl  Erkek      2         Zor         1          0          0   \n",
       "\n",
       "   yas_45-54  yas_55-64  yas_65 ve üstü  \n",
       "0          0          0               0  \n",
       "1          0          0               0  \n",
       "2          0          0               0  \n",
       "3          0          0               0  \n",
       "4          0          0               0  \n",
       "\n",
       "[5 rows x 21 columns]"
      ]
     },
     "execution_count": 30,
     "metadata": {},
     "output_type": "execute_result"
    }
   ],
   "source": [
    "df1.head()"
   ]
  },
  {
   "cell_type": "code",
   "execution_count": 31,
   "metadata": {},
   "outputs": [],
   "source": [
    "df1 = df1.drop(['yas_18-24'],axis=1)"
   ]
  },
  {
   "cell_type": "code",
   "execution_count": 32,
   "metadata": {},
   "outputs": [],
   "source": [
    "df=pd.get_dummies(df1, columns = [\"yil\"], prefix = [\"yil\"])"
   ]
  },
  {
   "cell_type": "code",
   "execution_count": 33,
   "metadata": {},
   "outputs": [
    {
     "name": "stdout",
     "output_type": "stream",
     "text": [
      "<class 'pandas.core.frame.DataFrame'>\n",
      "RangeIndex: 1319 entries, 0 to 1318\n",
      "Data columns (total 24 columns):\n",
      " #   Column            Non-Null Count  Dtype   \n",
      "---  ------            --------------  -----   \n",
      " 0   maas              1319 non-null   object  \n",
      " 1   vadeli            1319 non-null   object  \n",
      " 2   yatirim           1319 non-null   object  \n",
      " 3   kart              1319 non-null   object  \n",
      " 4   kredi             1319 non-null   object  \n",
      " 5   bes               1319 non-null   object  \n",
      " 6   sigorta           1319 non-null   object  \n",
      " 7   sube              1319 non-null   object  \n",
      " 8   atm               1319 non-null   object  \n",
      " 9   intmob            1319 non-null   object  \n",
      " 10  cagmerk           1319 non-null   object  \n",
      " 11  cins              1319 non-null   object  \n",
      " 12  egitim            1319 non-null   int64   \n",
      " 13  effort_kat        1319 non-null   category\n",
      " 14  yas_25-34         1319 non-null   uint8   \n",
      " 15  yas_35-44         1319 non-null   uint8   \n",
      " 16  yas_45-54         1319 non-null   uint8   \n",
      " 17  yas_55-64         1319 non-null   uint8   \n",
      " 18  yas_65 ve üstü    1319 non-null   uint8   \n",
      " 19  yil_1-3 yıl       1319 non-null   uint8   \n",
      " 20  yil_10 yıl üzeri  1319 non-null   uint8   \n",
      " 21  yil_4-6 yıl       1319 non-null   uint8   \n",
      " 22  yil_7-10 yıl      1319 non-null   uint8   \n",
      " 23  yil_< 1 yıl       1319 non-null   uint8   \n",
      "dtypes: category(1), int64(1), object(12), uint8(10)\n",
      "memory usage: 148.3+ KB\n"
     ]
    }
   ],
   "source": [
    "df.info()"
   ]
  },
  {
   "cell_type": "code",
   "execution_count": 34,
   "metadata": {},
   "outputs": [],
   "source": [
    "df = df.drop(['yil_1-3 yıl'],axis=1)"
   ]
  },
  {
   "cell_type": "code",
   "execution_count": 36,
   "metadata": {},
   "outputs": [
    {
     "data": {
      "text/html": [
       "<div>\n",
       "<style scoped>\n",
       "    .dataframe tbody tr th:only-of-type {\n",
       "        vertical-align: middle;\n",
       "    }\n",
       "\n",
       "    .dataframe tbody tr th {\n",
       "        vertical-align: top;\n",
       "    }\n",
       "\n",
       "    .dataframe thead th {\n",
       "        text-align: right;\n",
       "    }\n",
       "</style>\n",
       "<table border=\"1\" class=\"dataframe\">\n",
       "  <thead>\n",
       "    <tr style=\"text-align: right;\">\n",
       "      <th></th>\n",
       "      <th>maas</th>\n",
       "      <th>vadeli</th>\n",
       "      <th>yatirim</th>\n",
       "      <th>kart</th>\n",
       "      <th>kredi</th>\n",
       "      <th>bes</th>\n",
       "      <th>sigorta</th>\n",
       "      <th>sube</th>\n",
       "      <th>atm</th>\n",
       "      <th>intmob</th>\n",
       "      <th>...</th>\n",
       "      <th>effort_kat</th>\n",
       "      <th>yas_25-34</th>\n",
       "      <th>yas_35-44</th>\n",
       "      <th>yas_45-54</th>\n",
       "      <th>yas_55-64</th>\n",
       "      <th>yas_65 ve üstü</th>\n",
       "      <th>yil_10 yıl üzeri</th>\n",
       "      <th>yil_4-6 yıl</th>\n",
       "      <th>yil_7-10 yıl</th>\n",
       "      <th>yil_&lt; 1 yıl</th>\n",
       "    </tr>\n",
       "  </thead>\n",
       "  <tbody>\n",
       "    <tr>\n",
       "      <th>0</th>\n",
       "      <td>Hayır</td>\n",
       "      <td>Hayır</td>\n",
       "      <td>Evet</td>\n",
       "      <td>Evet</td>\n",
       "      <td>Hayır</td>\n",
       "      <td>Hayır</td>\n",
       "      <td>Evet</td>\n",
       "      <td>Hayır</td>\n",
       "      <td>Evet</td>\n",
       "      <td>Evet</td>\n",
       "      <td>...</td>\n",
       "      <td>Zor</td>\n",
       "      <td>0</td>\n",
       "      <td>0</td>\n",
       "      <td>0</td>\n",
       "      <td>0</td>\n",
       "      <td>0</td>\n",
       "      <td>0</td>\n",
       "      <td>0</td>\n",
       "      <td>0</td>\n",
       "      <td>1</td>\n",
       "    </tr>\n",
       "    <tr>\n",
       "      <th>1</th>\n",
       "      <td>Hayır</td>\n",
       "      <td>Evet</td>\n",
       "      <td>Evet</td>\n",
       "      <td>Hayır</td>\n",
       "      <td>Hayır</td>\n",
       "      <td>Evet</td>\n",
       "      <td>Hayır</td>\n",
       "      <td>Hayır</td>\n",
       "      <td>Hayır</td>\n",
       "      <td>Evet</td>\n",
       "      <td>...</td>\n",
       "      <td>Kolay</td>\n",
       "      <td>0</td>\n",
       "      <td>0</td>\n",
       "      <td>0</td>\n",
       "      <td>0</td>\n",
       "      <td>0</td>\n",
       "      <td>0</td>\n",
       "      <td>0</td>\n",
       "      <td>0</td>\n",
       "      <td>1</td>\n",
       "    </tr>\n",
       "    <tr>\n",
       "      <th>2</th>\n",
       "      <td>Hayır</td>\n",
       "      <td>Evet</td>\n",
       "      <td>Evet</td>\n",
       "      <td>Hayır</td>\n",
       "      <td>Hayır</td>\n",
       "      <td>Hayır</td>\n",
       "      <td>Hayır</td>\n",
       "      <td>Hayır</td>\n",
       "      <td>Evet</td>\n",
       "      <td>Evet</td>\n",
       "      <td>...</td>\n",
       "      <td>Kolay</td>\n",
       "      <td>0</td>\n",
       "      <td>0</td>\n",
       "      <td>0</td>\n",
       "      <td>0</td>\n",
       "      <td>0</td>\n",
       "      <td>0</td>\n",
       "      <td>0</td>\n",
       "      <td>0</td>\n",
       "      <td>1</td>\n",
       "    </tr>\n",
       "    <tr>\n",
       "      <th>3</th>\n",
       "      <td>Hayır</td>\n",
       "      <td>Hayır</td>\n",
       "      <td>Hayır</td>\n",
       "      <td>Evet</td>\n",
       "      <td>Hayır</td>\n",
       "      <td>Hayır</td>\n",
       "      <td>Hayır</td>\n",
       "      <td>Hayır</td>\n",
       "      <td>Evet</td>\n",
       "      <td>Evet</td>\n",
       "      <td>...</td>\n",
       "      <td>Kolay</td>\n",
       "      <td>0</td>\n",
       "      <td>0</td>\n",
       "      <td>0</td>\n",
       "      <td>0</td>\n",
       "      <td>0</td>\n",
       "      <td>0</td>\n",
       "      <td>0</td>\n",
       "      <td>0</td>\n",
       "      <td>1</td>\n",
       "    </tr>\n",
       "    <tr>\n",
       "      <th>4</th>\n",
       "      <td>Hayır</td>\n",
       "      <td>Hayır</td>\n",
       "      <td>Hayır</td>\n",
       "      <td>Hayır</td>\n",
       "      <td>Hayır</td>\n",
       "      <td>Evet</td>\n",
       "      <td>Evet</td>\n",
       "      <td>Hayır</td>\n",
       "      <td>Hayır</td>\n",
       "      <td>Evet</td>\n",
       "      <td>...</td>\n",
       "      <td>Zor</td>\n",
       "      <td>0</td>\n",
       "      <td>0</td>\n",
       "      <td>0</td>\n",
       "      <td>0</td>\n",
       "      <td>0</td>\n",
       "      <td>0</td>\n",
       "      <td>0</td>\n",
       "      <td>0</td>\n",
       "      <td>1</td>\n",
       "    </tr>\n",
       "  </tbody>\n",
       "</table>\n",
       "<p>5 rows × 23 columns</p>\n",
       "</div>"
      ],
      "text/plain": [
       "    maas vadeli yatirim   kart  kredi    bes sigorta   sube    atm intmob  \\\n",
       "0  Hayır  Hayır    Evet   Evet  Hayır  Hayır    Evet  Hayır   Evet   Evet   \n",
       "1  Hayır   Evet    Evet  Hayır  Hayır   Evet   Hayır  Hayır  Hayır   Evet   \n",
       "2  Hayır   Evet    Evet  Hayır  Hayır  Hayır   Hayır  Hayır   Evet   Evet   \n",
       "3  Hayır  Hayır   Hayır   Evet  Hayır  Hayır   Hayır  Hayır   Evet   Evet   \n",
       "4  Hayır  Hayır   Hayır  Hayır  Hayır   Evet    Evet  Hayır  Hayır   Evet   \n",
       "\n",
       "   ... effort_kat yas_25-34  yas_35-44 yas_45-54  yas_55-64  yas_65 ve üstü  \\\n",
       "0  ...        Zor         0          0         0          0               0   \n",
       "1  ...      Kolay         0          0         0          0               0   \n",
       "2  ...      Kolay         0          0         0          0               0   \n",
       "3  ...      Kolay         0          0         0          0               0   \n",
       "4  ...        Zor         0          0         0          0               0   \n",
       "\n",
       "   yil_10 yıl üzeri  yil_4-6 yıl  yil_7-10 yıl  yil_< 1 yıl  \n",
       "0                 0            0             0            1  \n",
       "1                 0            0             0            1  \n",
       "2                 0            0             0            1  \n",
       "3                 0            0             0            1  \n",
       "4                 0            0             0            1  \n",
       "\n",
       "[5 rows x 23 columns]"
      ]
     },
     "execution_count": 36,
     "metadata": {},
     "output_type": "execute_result"
    }
   ],
   "source": [
    "df.head()"
   ]
  },
  {
   "cell_type": "markdown",
   "metadata": {},
   "source": [
    "### Kategorik değişkenler üzerine binary dönüşüm yapılır. Yoksa modelin çalışmaması söz konusu olabilir."
   ]
  },
  {
   "cell_type": "code",
   "execution_count": 38,
   "metadata": {},
   "outputs": [],
   "source": [
    "from sklearn import preprocessing \n",
    "lbe= preprocessing.LabelEncoder()"
   ]
  },
  {
   "cell_type": "code",
   "execution_count": 39,
   "metadata": {},
   "outputs": [],
   "source": [
    "df[\"maas\"]= lbe.fit_transform(df[\"maas\"])\n",
    "df[\"vadeli\"]= lbe.fit_transform(df[\"vadeli\"])\n",
    "df[\"yatirim\"]= lbe.fit_transform(df[\"yatirim\"])\n",
    "df[\"kart\"]= lbe.fit_transform(df[\"kart\"])\n",
    "df[\"kredi\"]= lbe.fit_transform(df[\"kredi\"])\n",
    "df[\"bes\"]= lbe.fit_transform(df[\"bes\"])\n",
    "df[\"sigorta\"]= lbe.fit_transform(df[\"sigorta\"])\n",
    "df[\"sube\"]= lbe.fit_transform(df[\"sube\"])\n",
    "df[\"atm\"]= lbe.fit_transform(df[\"atm\"])\n",
    "df[\"intmob\"]= lbe.fit_transform(df[\"intmob\"])\n",
    "df[\"cagmerk\"]= lbe.fit_transform(df[\"cagmerk\"])\n",
    "df[\"cins\"]= lbe.fit_transform(df[\"cins\"])\n",
    "df[\"effort_kat\"]= lbe.fit_transform(df[\"effort_kat\"])"
   ]
  },
  {
   "cell_type": "markdown",
   "metadata": {},
   "source": [
    "# MODEL KURMA"
   ]
  },
  {
   "cell_type": "markdown",
   "metadata": {},
   "source": [
    "## Naive Bayes"
   ]
  },
  {
   "cell_type": "code",
   "execution_count": 41,
   "metadata": {},
   "outputs": [],
   "source": [
    "df = df.copy()\n",
    "\n",
    "y = df[\"effort_kat\"]\n",
    "X = df.drop(['effort_kat'], axis=1)\n",
    "X_train, X_test, y_train, y_test = train_test_split(X, y, \n",
    "                                                    test_size=0.20, \n",
    "                                                    random_state=42)"
   ]
  },
  {
   "cell_type": "code",
   "execution_count": 42,
   "metadata": {},
   "outputs": [],
   "source": [
    "from sklearn.naive_bayes import GaussianNB"
   ]
  },
  {
   "cell_type": "code",
   "execution_count": 43,
   "metadata": {},
   "outputs": [
    {
     "data": {
      "text/plain": [
       "GaussianNB(priors=None, var_smoothing=1e-09)"
      ]
     },
     "execution_count": 43,
     "metadata": {},
     "output_type": "execute_result"
    }
   ],
   "source": [
    "nb = GaussianNB()\n",
    "nb_model = nb.fit(X_train, y_train)\n",
    "nb_model"
   ]
  },
  {
   "cell_type": "code",
   "execution_count": 44,
   "metadata": {},
   "outputs": [],
   "source": [
    "y_pred = nb_model.predict(X_train)"
   ]
  },
  {
   "cell_type": "code",
   "execution_count": 47,
   "metadata": {},
   "outputs": [
    {
     "data": {
      "text/plain": [
       "0.6492890995260664"
      ]
     },
     "execution_count": 47,
     "metadata": {},
     "output_type": "execute_result"
    }
   ],
   "source": [
    "accuracy_score(y_train, y_pred) #model skoru"
   ]
  },
  {
   "cell_type": "code",
   "execution_count": 48,
   "metadata": {},
   "outputs": [
    {
     "data": {
      "text/plain": [
       "array([[554, 103],\n",
       "       [267, 131]], dtype=int64)"
      ]
     },
     "execution_count": 48,
     "metadata": {},
     "output_type": "execute_result"
    }
   ],
   "source": [
    "confusion_matrix(y_train, y_pred) "
   ]
  },
  {
   "cell_type": "markdown",
   "metadata": {},
   "source": [
    "### Modeli test datası ile valide edersek;"
   ]
  },
  {
   "cell_type": "code",
   "execution_count": null,
   "metadata": {},
   "outputs": [],
   "source": [
    "nb_model.predict(X_test)[0:10]  #ilk 10 satırın tahmini"
   ]
  },
  {
   "cell_type": "code",
   "execution_count": null,
   "metadata": {},
   "outputs": [],
   "source": [
    "nb_model.predict_proba(X_test)[0:10]  #ilk 10 satırın olasık olarak değeri"
   ]
  },
  {
   "cell_type": "code",
   "execution_count": 49,
   "metadata": {},
   "outputs": [],
   "source": [
    "y_pred1 = nb_model.predict(X_test)"
   ]
  },
  {
   "cell_type": "code",
   "execution_count": 51,
   "metadata": {},
   "outputs": [
    {
     "data": {
      "text/plain": [
       "0.625"
      ]
     },
     "execution_count": 51,
     "metadata": {},
     "output_type": "execute_result"
    }
   ],
   "source": [
    "# Model Başarı Oranı\n",
    "\n",
    "accuracy_score(y_test, y_pred1)"
   ]
  },
  {
   "cell_type": "code",
   "execution_count": 52,
   "metadata": {},
   "outputs": [
    {
     "data": {
      "text/plain": [
       "array([[140,  24],\n",
       "       [ 75,  25]], dtype=int64)"
      ]
     },
     "execution_count": 52,
     "metadata": {},
     "output_type": "execute_result"
    }
   ],
   "source": [
    "confusion_matrix(y_test, y_pred1)"
   ]
  },
  {
   "cell_type": "code",
   "execution_count": 53,
   "metadata": {},
   "outputs": [
    {
     "name": "stdout",
     "output_type": "stream",
     "text": [
      "              precision    recall  f1-score   support\n",
      "\n",
      "           0       0.65      0.85      0.74       164\n",
      "           1       0.51      0.25      0.34       100\n",
      "\n",
      "    accuracy                           0.62       264\n",
      "   macro avg       0.58      0.55      0.54       264\n",
      "weighted avg       0.60      0.62      0.59       264\n",
      "\n"
     ]
    }
   ],
   "source": [
    "print(classification_report(y_test, y_pred1))"
   ]
  },
  {
   "cell_type": "markdown",
   "metadata": {},
   "source": [
    "Sonuç olarak modelimizin başarı oranı % 62 çıktı.\n",
    "    \n",
    "    Presicion yani Kesinlik değerimiz % 60 çıktı.\n",
    "    \n",
    "    Recall yani Duyarlılık (tespit etme oranı) % 62 çıktı"
   ]
  },
  {
   "cell_type": "markdown",
   "metadata": {},
   "source": [
    "#### Cross Validation uygulanırsa"
   ]
  },
  {
   "cell_type": "code",
   "execution_count": 62,
   "metadata": {},
   "outputs": [
    {
     "name": "stdout",
     "output_type": "stream",
     "text": [
      "Wall time: 44.2 ms\n",
      "[1 0 0 0 0 1 0 0 0 1 0 1 1 1 0 1 1 0 0 0 0 1 0 0 1 0 1 0 0 0 0 0 1 0 0 0 0\n",
      " 0 1 0 0 0 0 0 0 1 1 0 0 1 0 1 0 1 0 0 0 0 0 0 0 1 0 0 1 0 0 0 0 0 0 0 1 0\n",
      " 0 1 0 1 0 0 0 0 0 0 0 0 0 0 0 1 0 0 0 0 1 1 0 0 0 0 0 0 1 0 0 0 1 0 1 0 0\n",
      " 0 0 1 0 0 0 0 0 1 1 0 0 0 1 0 0 0 0 0 0 0 0 0 0 0 0 0 0 0 0 0 0 0 0 0 0 0\n",
      " 1 0 1 0 0 0 0 0 0 1 1 1 0 0 0 0 0 0 0 0 0 0 0 0 0 0 0 0 0 0 0 0 0 0 0 0 0\n",
      " 1 0 0 0 0 0 0 0 0 0 0 0 0 0 0 0 0 0 0 0 0 0 0 0 0 0 0 0 1 0 0 0 0 1 0 0 0\n",
      " 0 1 0 1 0 0 1 0 0 1 0 0 0 0 0 0 0 0 0 1 0 0 0 0 1 1 0 0 0 0 0 1 0 0 0 0 0\n",
      " 0 0 0 0 0]\n"
     ]
    }
   ],
   "source": [
    "from sklearn.model_selection import StratifiedKFold \n",
    "\n",
    "params = {}\n",
    "\n",
    "#gridsearch searches for the best hyperparameters and keeps the classifier with the highest recall score\n",
    "skf = StratifiedKFold(n_splits=5)\n",
    "\n",
    "nb2 = GridSearchCV(nb_model, cv=skf, param_grid=params)\n",
    "%time nb2.fit(X_train, y_train)\n",
    "\n",
    "# predict values on the test set\n",
    "y_pred_nb2 = nb2.predict(X_test) \n",
    "\n",
    "print(y_pred_nb2)\n",
    "\n",
    "# predicted probabilities on the test set\n",
    "y_scores_nb2 = nb2.predict_proba(X_test)[:, 1]\n",
    "\n"
   ]
  },
  {
   "cell_type": "code",
   "execution_count": 61,
   "metadata": {},
   "outputs": [
    {
     "data": {
      "text/plain": [
       "0.625"
      ]
     },
     "execution_count": 61,
     "metadata": {},
     "output_type": "execute_result"
    }
   ],
   "source": [
    "# Model Accucay değerimiz aynı çıktı\n",
    "accuracy_score(y_test, y_pred_nb2)"
   ]
  },
  {
   "cell_type": "code",
   "execution_count": 67,
   "metadata": {},
   "outputs": [
    {
     "data": {
      "text/plain": [
       "0.6322274881516587"
      ]
     },
     "execution_count": 67,
     "metadata": {},
     "output_type": "execute_result"
    }
   ],
   "source": [
    "# cross_val_score(nb_model, X_train, y_train, cv = 5).mean()"
   ]
  },
  {
   "cell_type": "markdown",
   "metadata": {},
   "source": [
    "## KNN"
   ]
  },
  {
   "cell_type": "code",
   "execution_count": 68,
   "metadata": {},
   "outputs": [],
   "source": [
    "df = df.copy()\n",
    "\n",
    "y = df[\"effort_kat\"]\n",
    "X = df.drop(['effort_kat'], axis=1)\n",
    "X_train, X_test, y_train, y_test = train_test_split(X, y, \n",
    "                                                    test_size=0.20, \n",
    "                                                    random_state=42)"
   ]
  },
  {
   "cell_type": "code",
   "execution_count": 70,
   "metadata": {},
   "outputs": [
    {
     "data": {
      "text/plain": [
       "KNeighborsClassifier(algorithm='auto', leaf_size=30, metric='minkowski',\n",
       "                     metric_params=None, n_jobs=None, n_neighbors=5, p=2,\n",
       "                     weights='uniform')"
      ]
     },
     "execution_count": 70,
     "metadata": {},
     "output_type": "execute_result"
    }
   ],
   "source": [
    "from sklearn.neighbors import KNeighborsClassifier\n",
    "knn = KNeighborsClassifier()\n",
    "knn_model = knn.fit(X_train, y_train)\n",
    "knn_model"
   ]
  },
  {
   "cell_type": "code",
   "execution_count": 71,
   "metadata": {},
   "outputs": [
    {
     "data": {
      "text/plain": [
       "0.7488151658767772"
      ]
     },
     "execution_count": 71,
     "metadata": {},
     "output_type": "execute_result"
    }
   ],
   "source": [
    "#model train başarı oranı\n",
    "y_pred2 = knn_model.predict(X_train)  \n",
    "accuracy_score(y_train, y_pred2)"
   ]
  },
  {
   "cell_type": "code",
   "execution_count": 74,
   "metadata": {},
   "outputs": [
    {
     "data": {
      "text/plain": [
       "0.5984848484848485"
      ]
     },
     "execution_count": 74,
     "metadata": {},
     "output_type": "execute_result"
    }
   ],
   "source": [
    "#model test başarı oranı\n",
    "y_pred = knn_model.predict(X_test)\n",
    "accuracy_score(y_test, y_pred)"
   ]
  },
  {
   "cell_type": "code",
   "execution_count": 75,
   "metadata": {},
   "outputs": [
    {
     "name": "stdout",
     "output_type": "stream",
     "text": [
      "              precision    recall  f1-score   support\n",
      "\n",
      "           0       0.66      0.73      0.69       164\n",
      "           1       0.46      0.38      0.42       100\n",
      "\n",
      "    accuracy                           0.60       264\n",
      "   macro avg       0.56      0.56      0.56       264\n",
      "weighted avg       0.59      0.60      0.59       264\n",
      "\n"
     ]
    }
   ],
   "source": [
    "print(classification_report(y_test, y_pred))"
   ]
  },
  {
   "cell_type": "markdown",
   "metadata": {},
   "source": [
    "Sonuç olarak modelimizin başarı oranı % 59 çıktı.\n",
    "    \n",
    "    Presicion yani Kesinlik değerimiz % 59 çıktı.\n",
    "    \n",
    "    Recall yani Duyarlılık (tespit etme oranı) % 60 çıktı"
   ]
  },
  {
   "cell_type": "markdown",
   "metadata": {},
   "source": [
    "### KNN - Cross Validation"
   ]
  },
  {
   "cell_type": "code",
   "execution_count": 87,
   "metadata": {},
   "outputs": [],
   "source": [
    "knn_params = {\"n_neighbors\": np.arange(1,50)}"
   ]
  },
  {
   "cell_type": "code",
   "execution_count": 88,
   "metadata": {},
   "outputs": [
    {
     "data": {
      "text/plain": [
       "GridSearchCV(cv=5, error_score=nan,\n",
       "             estimator=KNeighborsClassifier(algorithm='auto', leaf_size=30,\n",
       "                                            metric='minkowski',\n",
       "                                            metric_params=None, n_jobs=None,\n",
       "                                            n_neighbors=5, p=2,\n",
       "                                            weights='uniform'),\n",
       "             iid='deprecated', n_jobs=None,\n",
       "             param_grid={'n_neighbors': array([ 1,  2,  3,  4,  5,  6,  7,  8,  9, 10, 11, 12, 13, 14, 15, 16, 17,\n",
       "       18, 19, 20, 21, 22, 23, 24, 25, 26, 27, 28, 29, 30, 31, 32, 33, 34,\n",
       "       35, 36, 37, 38, 39, 40, 41, 42, 43, 44, 45, 46, 47, 48, 49])},\n",
       "             pre_dispatch='2*n_jobs', refit=True, return_train_score=False,\n",
       "             scoring=None, verbose=0)"
      ]
     },
     "execution_count": 88,
     "metadata": {},
     "output_type": "execute_result"
    }
   ],
   "source": [
    "knn = KNeighborsClassifier()\n",
    "knn_cv = GridSearchCV(knn, knn_params, cv=5)\n",
    "knn_cv.fit(X_train, y_train)"
   ]
  },
  {
   "cell_type": "code",
   "execution_count": 89,
   "metadata": {},
   "outputs": [
    {
     "name": "stdout",
     "output_type": "stream",
     "text": [
      "En iyi skor:0.637914691943128\n",
      "En iyi parametreler: {'n_neighbors': 15}\n"
     ]
    }
   ],
   "source": [
    "print(\"En iyi skor:\" + str(knn_cv.best_score_))\n",
    "print(\"En iyi parametreler: \" + str(knn_cv.best_params_))"
   ]
  },
  {
   "cell_type": "code",
   "execution_count": 90,
   "metadata": {},
   "outputs": [],
   "source": [
    "knn = KNeighborsClassifier(15)\n",
    "knn_tuned = knn.fit(X_train, y_train)"
   ]
  },
  {
   "cell_type": "code",
   "execution_count": null,
   "metadata": {},
   "outputs": [],
   "source": [
    "accuracy_score(y_test, y_pred3)"
   ]
  },
  {
   "cell_type": "code",
   "execution_count": 91,
   "metadata": {},
   "outputs": [
    {
     "data": {
      "text/plain": [
       "0.625"
      ]
     },
     "execution_count": 91,
     "metadata": {},
     "output_type": "execute_result"
    }
   ],
   "source": [
    "#cross validation sonucu test başarı oranı:\n",
    "\n",
    "y_pred3 = knn_tuned.predict(X_test)\n",
    "accuracy_score(y_test, y_pred3)"
   ]
  },
  {
   "cell_type": "code",
   "execution_count": 92,
   "metadata": {},
   "outputs": [
    {
     "name": "stdout",
     "output_type": "stream",
     "text": [
      "              precision    recall  f1-score   support\n",
      "\n",
      "           0       0.66      0.80      0.73       164\n",
      "           1       0.51      0.34      0.41       100\n",
      "\n",
      "    accuracy                           0.62       264\n",
      "   macro avg       0.59      0.57      0.57       264\n",
      "weighted avg       0.61      0.62      0.61       264\n",
      "\n"
     ]
    }
   ],
   "source": [
    "print(classification_report(y_test, y_pred3))"
   ]
  },
  {
   "cell_type": "markdown",
   "metadata": {},
   "source": [
    "#### Özetle;\n",
    "\n",
    "    Modellerin incelenmesi sonucunda Naive Bayes algoritması ile KNN-CV modelleri benzer accuracy sonuçlarını vermiştir.\n",
    "    \n",
    "    Ancak detaylı olarak bakıldığında KNN_CV modelinin ZOR yani 1 sınıfını bulmada daha başarılı olduğu görülmektedir. Model seçimi olarak KNN-CV modeli seçilebilir."
   ]
  },
  {
   "cell_type": "markdown",
   "metadata": {},
   "source": [
    "### Model üzerine incelemeler"
   ]
  },
  {
   "cell_type": "markdown",
   "metadata": {},
   "source": [
    "Modeller incelediğinde görülmektedir ki bağımsız değişkenler içinden bir seçim yapılmamıştır. Tüm veriler kullanılmıştır. Ayrıca bağımsız değişkenlerin kategorik olması değişken seçimi metriklerini kullanmayı zorunlu kılmıştır.Değişken seçimi için \"feature importance\" modellerinden Random Forest modelinde karar kılınmıştır.\n",
    "\n",
    "   * İmportance derecesi sonucu altlarda yer alan değişkenler çıkarıldığında modelin performansının arttığı görülmüştür.\n",
    "   * Örnek olarak KNN modelinin accurcay değeri %59 iken feature importance sonrası bu değer %61 e yükselmiştir."
   ]
  },
  {
   "cell_type": "code",
   "execution_count": 93,
   "metadata": {},
   "outputs": [
    {
     "data": {
      "text/plain": [
       "RandomForestClassifier(bootstrap=True, ccp_alpha=0.0, class_weight=None,\n",
       "                       criterion='gini', max_depth=10, max_features=8,\n",
       "                       max_leaf_nodes=None, max_samples=None,\n",
       "                       min_impurity_decrease=0.0, min_impurity_split=None,\n",
       "                       min_samples_leaf=1, min_samples_split=10,\n",
       "                       min_weight_fraction_leaf=0.0, n_estimators=1000,\n",
       "                       n_jobs=None, oob_score=False, random_state=None,\n",
       "                       verbose=0, warm_start=False)"
      ]
     },
     "execution_count": 93,
     "metadata": {},
     "output_type": "execute_result"
    }
   ],
   "source": [
    "rf_tuned = RandomForestClassifier(max_depth = 10, \n",
    "                                  max_features = 8, \n",
    "                                  min_samples_split = 10,\n",
    "                                  n_estimators = 1000)\n",
    "\n",
    "rf_tuned.fit(X_train, y_train)"
   ]
  },
  {
   "cell_type": "code",
   "execution_count": 94,
   "metadata": {},
   "outputs": [
    {
     "data": {
      "text/plain": [
       "0.6590909090909091"
      ]
     },
     "execution_count": 94,
     "metadata": {},
     "output_type": "execute_result"
    }
   ],
   "source": [
    "y_pred = rf_tuned.predict(X_test)\n",
    "accuracy_score(y_test, y_pred)"
   ]
  },
  {
   "cell_type": "code",
   "execution_count": 95,
   "metadata": {},
   "outputs": [],
   "source": [
    "Importance = pd.DataFrame({\"Importance\": rf_tuned.feature_importances_*100},\n",
    "                         index = X_train.columns)"
   ]
  },
  {
   "cell_type": "code",
   "execution_count": 96,
   "metadata": {},
   "outputs": [
    {
     "data": {
      "text/plain": [
       "Text(0.5, 0, 'Değişken Önem Düzeyleri')"
      ]
     },
     "execution_count": 96,
     "metadata": {},
     "output_type": "execute_result"
    },
    {
     "data": {
      "image/png": "[encoded data removed]",
      "text/plain": [
       "<Figure size 432x288 with 1 Axes>"
      ]
     },
     "metadata": {
      "needs_background": "light"
     },
     "output_type": "display_data"
    }
   ],
   "source": [
    "Importance.sort_values(by = \"Importance\", \n",
    "                       axis = 0, \n",
    "                       ascending = True).plot(kind =\"barh\", color = \"r\")\n",
    "\n",
    "plt.xlabel(\"Değişken Önem Düzeyleri\")"
   ]
  },
  {
   "cell_type": "code",
   "execution_count": 111,
   "metadata": {},
   "outputs": [],
   "source": [
    "df = df.copy()\n",
    "\n",
    "y = df[\"effort_kat\"]\n",
    "X = df.drop(['effort_kat','sube','vadeli','atm'], axis=1)\n",
    "X_train, X_test, y_train, y_test = train_test_split(X, y, \n",
    "                                                    test_size=0.20, \n",
    "                                                    random_state=42)"
   ]
  },
  {
   "cell_type": "code",
   "execution_count": 113,
   "metadata": {},
   "outputs": [
    {
     "data": {
      "text/plain": [
       "0.6136363636363636"
      ]
     },
     "execution_count": 113,
     "metadata": {},
     "output_type": "execute_result"
    }
   ],
   "source": [
    "#KNN modeli uygulanırsa\n",
    "\n",
    "from sklearn.neighbors import KNeighborsClassifier\n",
    "knn = KNeighborsClassifier()\n",
    "knn_model = knn.fit(X_train, y_train)\n",
    "\n",
    "#model test başarı oranı\n",
    "y_pred = knn_model.predict(X_test)\n",
    "accuracy_score(y_test, y_pred)"
   ]
  },
  {
   "cell_type": "markdown",
   "metadata": {},
   "source": [
    "#### not: Gradient Boosting Classifier ve Random Forest modellerini de aynı veri üzerinden atacağım."
   ]
  },
  {
   "cell_type": "code",
   "execution_count": null,
   "metadata": {},
   "outputs": [],
   "source": []
  }
 ],
 "metadata": {
  "kernelspec": {
   "display_name": "Python 3",
   "language": "python",
   "name": "python3"
  },
  "language_info": {
   "codemirror_mode": {
    "name": "ipython",
    "version": 3
   },
   "file_extension": ".py",
   "mimetype": "text/x-python",
   "name": "python",
   "nbconvert_exporter": "python",
   "pygments_lexer": "ipython3",
   "version": "3.7.6"
  }
 },
 "nbformat": 4,
 "nbformat_minor": 4
}
